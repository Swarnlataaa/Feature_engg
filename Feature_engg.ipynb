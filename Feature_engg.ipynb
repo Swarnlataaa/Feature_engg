{
  "nbformat": 4,
  "nbformat_minor": 0,
  "metadata": {
    "colab": {
      "provenance": [],
      "authorship_tag": "ABX9TyOKLgCjOn+mk0dItR5ZnDLU",
      "include_colab_link": true
    },
    "kernelspec": {
      "name": "python3",
      "display_name": "Python 3"
    },
    "language_info": {
      "name": "python"
    }
  },
  "cells": [
    {
      "cell_type": "markdown",
      "metadata": {
        "id": "view-in-github",
        "colab_type": "text"
      },
      "source": [
        "<a href=\"https://colab.research.google.com/github/Swarnlataaa/Feature_engg/blob/main/Feature_engg.ipynb\" target=\"_parent\"><img src=\"https://colab.research.google.com/assets/colab-badge.svg\" alt=\"Open In Colab\"/></a>"
      ]
    },
    {
      "cell_type": "markdown",
      "source": [
        "### Handling missing data"
      ],
      "metadata": {
        "id": "QnC3rNEonaCE"
      }
    },
    {
      "cell_type": "code",
      "execution_count": null,
      "metadata": {
        "id": "gdCW6GaInVMG"
      },
      "outputs": [],
      "source": [
        "import pandas as pd\n",
        "from sklearn.impute import SimpleImputer\n",
        "\n",
        "imputer = SimpleImputer(strategy='mean')\n",
        "df['column_name'] = imputer.fit_transform(df[['column_name']])\n"
      ]
    },
    {
      "cell_type": "markdown",
      "source": [
        "### Feature scaling"
      ],
      "metadata": {
        "id": "liJmvc_Ond7Z"
      }
    },
    {
      "cell_type": "code",
      "source": [
        "from sklearn.preprocessing import MinMaxScaler\n",
        "\n",
        "scaler = MinMaxScaler()\n",
        "df['column_name'] = scaler.fit_transform(df[['column_name']])\n"
      ],
      "metadata": {
        "id": "rt9TlJfKng77"
      },
      "execution_count": null,
      "outputs": []
    },
    {
      "cell_type": "code",
      "source": [
        "from sklearn.preprocessing import StandardScaler\n",
        "\n",
        "scaler = StandardScaler()\n",
        "df['column_name'] = scaler.fit_transform(df[['column_name']])\n"
      ],
      "metadata": {
        "id": "IWvT3mK-nlDE"
      },
      "execution_count": null,
      "outputs": []
    },
    {
      "cell_type": "markdown",
      "source": [
        "### Encoding Categorical Variables:"
      ],
      "metadata": {
        "id": "fChC9-lCnheb"
      }
    },
    {
      "cell_type": "code",
      "source": [
        "df = pd.get_dummies(df, columns=['categorical_column'])\n"
      ],
      "metadata": {
        "id": "3P5AZOPmns0r"
      },
      "execution_count": null,
      "outputs": []
    },
    {
      "cell_type": "code",
      "source": [
        "from sklearn.preprocessing import LabelEncoder\n",
        "\n",
        "label_encoder = LabelEncoder()\n",
        "df['categorical_column'] = label_encoder.fit_transform(df['categorical_column'])\n"
      ],
      "metadata": {
        "id": "jSxTelJrntfD"
      },
      "execution_count": null,
      "outputs": []
    },
    {
      "cell_type": "markdown",
      "source": [
        "### Feature Extraction:"
      ],
      "metadata": {
        "id": "3TiIQg1Rnxnf"
      }
    },
    {
      "cell_type": "code",
      "source": [
        "from sklearn.decomposition import PCA\n",
        "\n",
        "pca = PCA(n_components=2)\n",
        "pca_result = pca.fit_transform(df[['feature1', 'feature2']])\n"
      ],
      "metadata": {
        "id": "RLFQ9F3knylR"
      },
      "execution_count": null,
      "outputs": []
    },
    {
      "cell_type": "markdown",
      "source": [
        "### creating new features"
      ],
      "metadata": {
        "id": "RgIadl4sn1Es"
      }
    },
    {
      "cell_type": "code",
      "source": [
        "df['new_feature'] = df['feature1'] * df['feature2']\n"
      ],
      "metadata": {
        "id": "xxoIHHC0n5OY"
      },
      "execution_count": null,
      "outputs": []
    },
    {
      "cell_type": "markdown",
      "source": [
        "### feature selection"
      ],
      "metadata": {
        "id": "CaHzDpkQn5vW"
      }
    },
    {
      "cell_type": "code",
      "source": [
        "from sklearn.feature_selection import SelectKBest, f_regression\n",
        "\n",
        "selector = SelectKBest(score_func=f_regression, k=5)\n",
        "X_new = selector.fit_transform(X, y)\n"
      ],
      "metadata": {
        "id": "Gp4y6tj7n9jk"
      },
      "execution_count": null,
      "outputs": []
    }
  ]
}